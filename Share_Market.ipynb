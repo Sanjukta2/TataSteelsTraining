{
  "nbformat": 4,
  "nbformat_minor": 0,
  "metadata": {
    "colab": {
      "name": "Share Market.ipynb",
      "provenance": [],
      "collapsed_sections": []
    },
    "kernelspec": {
      "name": "python3",
      "display_name": "Python 3"
    }
  },
  "cells": [
    {
      "cell_type": "code",
      "metadata": {
        "id": "Ybd6SBw8Hn83",
        "colab_type": "code",
        "colab": {
          "base_uri": "https://localhost:8080/",
          "height": 72
        },
        "outputId": "95f25895-9f5a-49e1-867f-e60ba61795d4"
      },
      "source": [
        "import pandas as pd\n",
        "import tensorflow as tf\n",
        "import keras\n",
        "from keras import Sequential\n",
        "import matplotlib.pyplot as plt\n",
        "import seaborn as sns "
      ],
      "execution_count": 1,
      "outputs": [
        {
          "output_type": "stream",
          "text": [
            "/usr/local/lib/python3.6/dist-packages/statsmodels/tools/_testing.py:19: FutureWarning: pandas.util.testing is deprecated. Use the functions in the public API at pandas.testing instead.\n",
            "  import pandas.util.testing as tm\n"
          ],
          "name": "stderr"
        }
      ]
    },
    {
      "cell_type": "code",
      "metadata": {
        "id": "bJegYCG9kkJ8",
        "colab_type": "code",
        "colab": {}
      },
      "source": [
        ""
      ],
      "execution_count": 1,
      "outputs": []
    },
    {
      "cell_type": "code",
      "metadata": {
        "id": "vCHVV7G-Huhi",
        "colab_type": "code",
        "colab": {
          "base_uri": "https://localhost:8080/",
          "height": 225
        },
        "outputId": "d8b631b9-9341-48fa-da85-413f541eea7e"
      },
      "source": [
        "df=pd.read_csv('YESBANK.csv',usecols=['Open','High','Low','Close','Volume'])\n",
        "train=df.head(400)\n",
        "test=df.tail(89)\n",
        "test.info()"
      ],
      "execution_count": 2,
      "outputs": [
        {
          "output_type": "stream",
          "text": [
            "<class 'pandas.core.frame.DataFrame'>\n",
            "RangeIndex: 89 entries, 400 to 488\n",
            "Data columns (total 5 columns):\n",
            " #   Column  Non-Null Count  Dtype  \n",
            "---  ------  --------------  -----  \n",
            " 0   Open    88 non-null     float64\n",
            " 1   High    88 non-null     float64\n",
            " 2   Low     88 non-null     float64\n",
            " 3   Close   88 non-null     float64\n",
            " 4   Volume  88 non-null     float64\n",
            "dtypes: float64(5)\n",
            "memory usage: 3.6 KB\n"
          ],
          "name": "stdout"
        }
      ]
    },
    {
      "cell_type": "code",
      "metadata": {
        "id": "Vcz4uVKg90-j",
        "colab_type": "code",
        "colab": {
          "base_uri": "https://localhost:8080/",
          "height": 423
        },
        "outputId": "a02c63a3-4261-42e2-a42b-774641f059af"
      },
      "source": [
        "train"
      ],
      "execution_count": 3,
      "outputs": [
        {
          "output_type": "execute_result",
          "data": {
            "text/html": [
              "<div>\n",
              "<style scoped>\n",
              "    .dataframe tbody tr th:only-of-type {\n",
              "        vertical-align: middle;\n",
              "    }\n",
              "\n",
              "    .dataframe tbody tr th {\n",
              "        vertical-align: top;\n",
              "    }\n",
              "\n",
              "    .dataframe thead th {\n",
              "        text-align: right;\n",
              "    }\n",
              "</style>\n",
              "<table border=\"1\" class=\"dataframe\">\n",
              "  <thead>\n",
              "    <tr style=\"text-align: right;\">\n",
              "      <th></th>\n",
              "      <th>Open</th>\n",
              "      <th>High</th>\n",
              "      <th>Low</th>\n",
              "      <th>Close</th>\n",
              "      <th>Volume</th>\n",
              "    </tr>\n",
              "  </thead>\n",
              "  <tbody>\n",
              "    <tr>\n",
              "      <th>0</th>\n",
              "      <td>334.0</td>\n",
              "      <td>338.500000</td>\n",
              "      <td>328.000000</td>\n",
              "      <td>333.899994</td>\n",
              "      <td>470267.0</td>\n",
              "    </tr>\n",
              "    <tr>\n",
              "      <th>1</th>\n",
              "      <td>336.0</td>\n",
              "      <td>343.750000</td>\n",
              "      <td>331.250000</td>\n",
              "      <td>342.500000</td>\n",
              "      <td>653618.0</td>\n",
              "    </tr>\n",
              "    <tr>\n",
              "      <th>2</th>\n",
              "      <td>350.0</td>\n",
              "      <td>356.500000</td>\n",
              "      <td>333.100006</td>\n",
              "      <td>340.250000</td>\n",
              "      <td>2419109.0</td>\n",
              "    </tr>\n",
              "    <tr>\n",
              "      <th>3</th>\n",
              "      <td>348.0</td>\n",
              "      <td>352.000000</td>\n",
              "      <td>339.250000</td>\n",
              "      <td>348.299988</td>\n",
              "      <td>1659646.0</td>\n",
              "    </tr>\n",
              "    <tr>\n",
              "      <th>4</th>\n",
              "      <td>349.0</td>\n",
              "      <td>358.000000</td>\n",
              "      <td>349.000000</td>\n",
              "      <td>355.250000</td>\n",
              "      <td>663569.0</td>\n",
              "    </tr>\n",
              "    <tr>\n",
              "      <th>...</th>\n",
              "      <td>...</td>\n",
              "      <td>...</td>\n",
              "      <td>...</td>\n",
              "      <td>...</td>\n",
              "      <td>...</td>\n",
              "    </tr>\n",
              "    <tr>\n",
              "      <th>395</th>\n",
              "      <td>65.0</td>\n",
              "      <td>65.199997</td>\n",
              "      <td>58.049999</td>\n",
              "      <td>59.500000</td>\n",
              "      <td>14885233.0</td>\n",
              "    </tr>\n",
              "    <tr>\n",
              "      <th>396</th>\n",
              "      <td>59.0</td>\n",
              "      <td>59.299999</td>\n",
              "      <td>55.000000</td>\n",
              "      <td>57.349998</td>\n",
              "      <td>19171338.0</td>\n",
              "    </tr>\n",
              "    <tr>\n",
              "      <th>397</th>\n",
              "      <td>58.0</td>\n",
              "      <td>60.900002</td>\n",
              "      <td>55.549999</td>\n",
              "      <td>59.500000</td>\n",
              "      <td>19148813.0</td>\n",
              "    </tr>\n",
              "    <tr>\n",
              "      <th>398</th>\n",
              "      <td>59.5</td>\n",
              "      <td>62.250000</td>\n",
              "      <td>57.650002</td>\n",
              "      <td>58.799999</td>\n",
              "      <td>12946414.0</td>\n",
              "    </tr>\n",
              "    <tr>\n",
              "      <th>399</th>\n",
              "      <td>58.0</td>\n",
              "      <td>60.200001</td>\n",
              "      <td>57.299999</td>\n",
              "      <td>59.450001</td>\n",
              "      <td>9047280.0</td>\n",
              "    </tr>\n",
              "  </tbody>\n",
              "</table>\n",
              "<p>400 rows × 5 columns</p>\n",
              "</div>"
            ],
            "text/plain": [
              "      Open        High         Low       Close      Volume\n",
              "0    334.0  338.500000  328.000000  333.899994    470267.0\n",
              "1    336.0  343.750000  331.250000  342.500000    653618.0\n",
              "2    350.0  356.500000  333.100006  340.250000   2419109.0\n",
              "3    348.0  352.000000  339.250000  348.299988   1659646.0\n",
              "4    349.0  358.000000  349.000000  355.250000    663569.0\n",
              "..     ...         ...         ...         ...         ...\n",
              "395   65.0   65.199997   58.049999   59.500000  14885233.0\n",
              "396   59.0   59.299999   55.000000   57.349998  19171338.0\n",
              "397   58.0   60.900002   55.549999   59.500000  19148813.0\n",
              "398   59.5   62.250000   57.650002   58.799999  12946414.0\n",
              "399   58.0   60.200001   57.299999   59.450001   9047280.0\n",
              "\n",
              "[400 rows x 5 columns]"
            ]
          },
          "metadata": {
            "tags": []
          },
          "execution_count": 3
        }
      ]
    },
    {
      "cell_type": "code",
      "metadata": {
        "id": "p1s06PedIEog",
        "colab_type": "code",
        "colab": {}
      },
      "source": [
        "label_train=train.pop('Close')\n",
        "label_test=test.pop('Close')"
      ],
      "execution_count": 4,
      "outputs": []
    },
    {
      "cell_type": "code",
      "metadata": {
        "id": "U_wFHHFDIMxy",
        "colab_type": "code",
        "colab": {
          "base_uri": "https://localhost:8080/",
          "height": 225
        },
        "outputId": "b3c2a638-aff4-4492-d289-ae6c44be0d8c"
      },
      "source": [
        "label_train"
      ],
      "execution_count": 5,
      "outputs": [
        {
          "output_type": "execute_result",
          "data": {
            "text/plain": [
              "0      333.899994\n",
              "1      342.500000\n",
              "2      340.250000\n",
              "3      348.299988\n",
              "4      355.250000\n",
              "          ...    \n",
              "395     59.500000\n",
              "396     57.349998\n",
              "397     59.500000\n",
              "398     58.799999\n",
              "399     59.450001\n",
              "Name: Close, Length: 400, dtype: float64"
            ]
          },
          "metadata": {
            "tags": []
          },
          "execution_count": 5
        }
      ]
    },
    {
      "cell_type": "code",
      "metadata": {
        "id": "XDgxpSb_rqof",
        "colab_type": "code",
        "colab": {
          "base_uri": "https://localhost:8080/",
          "height": 194
        },
        "outputId": "3d59c497-86a2-4071-dc0c-798ad83ce898"
      },
      "source": [
        "train_stats=train.describe().T\n",
        "train_stats"
      ],
      "execution_count": 6,
      "outputs": [
        {
          "output_type": "execute_result",
          "data": {
            "text/html": [
              "<div>\n",
              "<style scoped>\n",
              "    .dataframe tbody tr th:only-of-type {\n",
              "        vertical-align: middle;\n",
              "    }\n",
              "\n",
              "    .dataframe tbody tr th {\n",
              "        vertical-align: top;\n",
              "    }\n",
              "\n",
              "    .dataframe thead th {\n",
              "        text-align: right;\n",
              "    }\n",
              "</style>\n",
              "<table border=\"1\" class=\"dataframe\">\n",
              "  <thead>\n",
              "    <tr style=\"text-align: right;\">\n",
              "      <th></th>\n",
              "      <th>count</th>\n",
              "      <th>mean</th>\n",
              "      <th>std</th>\n",
              "      <th>min</th>\n",
              "      <th>25%</th>\n",
              "      <th>50%</th>\n",
              "      <th>75%</th>\n",
              "      <th>max</th>\n",
              "    </tr>\n",
              "  </thead>\n",
              "  <tbody>\n",
              "    <tr>\n",
              "      <th>Open</th>\n",
              "      <td>400.0</td>\n",
              "      <td>2.453318e+02</td>\n",
              "      <td>9.472542e+01</td>\n",
              "      <td>56.299999</td>\n",
              "      <td>178.412502</td>\n",
              "      <td>2.382750e+02</td>\n",
              "      <td>3.333375e+02</td>\n",
              "      <td>3.974500e+02</td>\n",
              "    </tr>\n",
              "    <tr>\n",
              "      <th>High</th>\n",
              "      <td>400.0</td>\n",
              "      <td>2.498312e+02</td>\n",
              "      <td>9.525151e+01</td>\n",
              "      <td>59.299999</td>\n",
              "      <td>181.787506</td>\n",
              "      <td>2.462000e+02</td>\n",
              "      <td>3.379125e+02</td>\n",
              "      <td>4.040000e+02</td>\n",
              "    </tr>\n",
              "    <tr>\n",
              "      <th>Low</th>\n",
              "      <td>400.0</td>\n",
              "      <td>2.393314e+02</td>\n",
              "      <td>9.443892e+01</td>\n",
              "      <td>53.150002</td>\n",
              "      <td>171.337502</td>\n",
              "      <td>2.329500e+02</td>\n",
              "      <td>3.299125e+02</td>\n",
              "      <td>3.927000e+02</td>\n",
              "    </tr>\n",
              "    <tr>\n",
              "      <th>Volume</th>\n",
              "      <td>400.0</td>\n",
              "      <td>4.108042e+06</td>\n",
              "      <td>4.388718e+06</td>\n",
              "      <td>211556.000000</td>\n",
              "      <td>771410.500000</td>\n",
              "      <td>2.821196e+06</td>\n",
              "      <td>5.674854e+06</td>\n",
              "      <td>2.579198e+07</td>\n",
              "    </tr>\n",
              "  </tbody>\n",
              "</table>\n",
              "</div>"
            ],
            "text/plain": [
              "        count          mean  ...           75%           max\n",
              "Open    400.0  2.453318e+02  ...  3.333375e+02  3.974500e+02\n",
              "High    400.0  2.498312e+02  ...  3.379125e+02  4.040000e+02\n",
              "Low     400.0  2.393314e+02  ...  3.299125e+02  3.927000e+02\n",
              "Volume  400.0  4.108042e+06  ...  5.674854e+06  2.579198e+07\n",
              "\n",
              "[4 rows x 8 columns]"
            ]
          },
          "metadata": {
            "tags": []
          },
          "execution_count": 6
        }
      ]
    },
    {
      "cell_type": "code",
      "metadata": {
        "id": "3lnoVQy9r2UH",
        "colab_type": "code",
        "colab": {}
      },
      "source": [
        "def norm(x):\n",
        "  return (x-train_stats['mean'])/train_stats['std']\n",
        "train=norm(train)\n",
        "test=norm(test)"
      ],
      "execution_count": 7,
      "outputs": []
    },
    {
      "cell_type": "code",
      "metadata": {
        "id": "9Q5fJvKPY1N3",
        "colab_type": "code",
        "colab": {}
      },
      "source": [
        "def build_model():\n",
        "  \n",
        "  #sigmoid\n",
        "  #relu-rectified linear unit\n",
        "\n",
        "\n",
        "  model=Sequential([\n",
        "                         keras.layers.Dense(64,activation='relu',input_shape=[len(train.keys())]),\n",
        "                         keras.layers.Dense(64,activation='relu'),\n",
        "                         keras.layers.Dense(1)\n",
        "  ])\n",
        "  optimizer=tf.keras.optimizers.RMSprop(0.001)  #RMSprop \n",
        "  model.compile(loss='mse',optimizer=optimizer,metrics=['mse','mae'])\n",
        "  \n",
        "  return model\n",
        "\n"
      ],
      "execution_count": 8,
      "outputs": []
    },
    {
      "cell_type": "code",
      "metadata": {
        "id": "IP4xPr3HZoLJ",
        "colab_type": "code",
        "colab": {}
      },
      "source": [
        "model=build_model()"
      ],
      "execution_count": 9,
      "outputs": []
    },
    {
      "cell_type": "code",
      "metadata": {
        "id": "P3w0gVnlj1x9",
        "colab_type": "code",
        "colab": {
          "base_uri": "https://localhost:8080/",
          "height": 260
        },
        "outputId": "1e702bdf-5f5b-4e54-b660-9ac87d39671f"
      },
      "source": [
        "model.summary()"
      ],
      "execution_count": 10,
      "outputs": [
        {
          "output_type": "stream",
          "text": [
            "Model: \"sequential\"\n",
            "_________________________________________________________________\n",
            "Layer (type)                 Output Shape              Param #   \n",
            "=================================================================\n",
            "dense (Dense)                (None, 64)                320       \n",
            "_________________________________________________________________\n",
            "dense_1 (Dense)              (None, 64)                4160      \n",
            "_________________________________________________________________\n",
            "dense_2 (Dense)              (None, 1)                 65        \n",
            "=================================================================\n",
            "Total params: 4,545\n",
            "Trainable params: 4,545\n",
            "Non-trainable params: 0\n",
            "_________________________________________________________________\n"
          ],
          "name": "stdout"
        }
      ]
    },
    {
      "cell_type": "code",
      "metadata": {
        "id": "j2B-0AKYpV1r",
        "colab_type": "code",
        "colab": {
          "base_uri": "https://localhost:8080/",
          "height": 384
        },
        "outputId": "2e8a94e9-b3af-46f0-8792-129fede80220"
      },
      "source": [
        "obj=model.fit(\n",
        "    train,label_train,epochs=10,validation_split=0.4,\n",
        ")"
      ],
      "execution_count": 11,
      "outputs": [
        {
          "output_type": "stream",
          "text": [
            "Epoch 1/10\n",
            "8/8 [==============================] - 0s 23ms/step - loss: 93255.9453 - mse: 93255.9453 - mae: 297.3993 - val_loss: 30809.1250 - val_mse: 30809.1250 - val_mae: 162.3454\n",
            "Epoch 2/10\n",
            "8/8 [==============================] - 0s 3ms/step - loss: 92714.9766 - mse: 92714.9766 - mae: 296.5499 - val_loss: 30623.2598 - val_mse: 30623.2598 - val_mae: 161.6139\n",
            "Epoch 3/10\n",
            "8/8 [==============================] - 0s 3ms/step - loss: 92171.7891 - mse: 92171.7891 - mae: 295.6946 - val_loss: 30399.9219 - val_mse: 30399.9219 - val_mae: 160.7282\n",
            "Epoch 4/10\n",
            "8/8 [==============================] - 0s 3ms/step - loss: 91573.9141 - mse: 91573.9141 - mae: 294.7407 - val_loss: 30129.6621 - val_mse: 30129.6621 - val_mae: 159.6413\n",
            "Epoch 5/10\n",
            "8/8 [==============================] - 0s 3ms/step - loss: 90862.5547 - mse: 90862.5547 - mae: 293.6036 - val_loss: 29806.2500 - val_mse: 29806.2500 - val_mae: 158.3374\n",
            "Epoch 6/10\n",
            "8/8 [==============================] - 0s 3ms/step - loss: 89993.7422 - mse: 89993.7422 - mae: 292.2064 - val_loss: 29451.8223 - val_mse: 29451.8223 - val_mae: 156.8982\n",
            "Epoch 7/10\n",
            "8/8 [==============================] - 0s 3ms/step - loss: 88983.2578 - mse: 88983.2578 - mae: 290.5697 - val_loss: 28999.6660 - val_mse: 28999.6660 - val_mae: 154.9934\n",
            "Epoch 8/10\n",
            "8/8 [==============================] - 0s 3ms/step - loss: 87826.9297 - mse: 87826.9297 - mae: 288.6814 - val_loss: 28506.4180 - val_mse: 28506.4180 - val_mae: 152.8965\n",
            "Epoch 9/10\n",
            "8/8 [==============================] - 0s 3ms/step - loss: 86457.1641 - mse: 86457.1641 - mae: 286.4395 - val_loss: 27953.9531 - val_mse: 27953.9531 - val_mae: 150.4889\n",
            "Epoch 10/10\n",
            "8/8 [==============================] - 0s 3ms/step - loss: 84895.0703 - mse: 84895.0703 - mae: 283.8573 - val_loss: 27354.1816 - val_mse: 27354.1816 - val_mae: 147.8241\n"
          ],
          "name": "stdout"
        }
      ]
    },
    {
      "cell_type": "code",
      "metadata": {
        "id": "Yx-ZG6gcqAAm",
        "colab_type": "code",
        "colab": {
          "base_uri": "https://localhost:8080/",
          "height": 300
        },
        "outputId": "640dab3e-80c5-4e91-ec22-f5235269b192"
      },
      "source": [
        "test_predictions= model.predict(test).flatten()\n",
        "\n",
        "sns.scatterplot(label_test,test_predictions)"
      ],
      "execution_count": 12,
      "outputs": [
        {
          "output_type": "execute_result",
          "data": {
            "text/plain": [
              "<matplotlib.axes._subplots.AxesSubplot at 0x7f96e150ce48>"
            ]
          },
          "metadata": {
            "tags": []
          },
          "execution_count": 12
        },
        {
          "output_type": "display_data",
          "data": {
            "image/png": "[encoded data removed]",
            "text/plain": [
              "<Figure size 432x288 with 1 Axes>"
            ]
          },
          "metadata": {
            "tags": [],
            "needs_background": "light"
          }
        }
      ]
    },
    {
      "cell_type": "code",
      "metadata": {
        "id": "DlI-Jat9Jvet",
        "colab_type": "code",
        "colab": {
          "base_uri": "https://localhost:8080/",
          "height": 295
        },
        "outputId": "6220ed3a-3c2d-4413-b261-bd523113d404"
      },
      "source": [
        "test_predictions"
      ],
      "execution_count": 13,
      "outputs": [
        {
          "output_type": "execute_result",
          "data": {
            "text/plain": [
              "array([29.39704 , 28.305233, 29.70388 , 33.74158 , 29.563684, 33.454544,\n",
              "       26.955334, 27.328016, 28.738953, 33.961212, 38.149166, 35.35934 ,\n",
              "       30.541504, 30.361244, 32.51153 , 37.62358 , 43.493996, 59.78089 ,\n",
              "       50.601208, 47.25449 , 40.691864, 37.116516, 33.87306 , 40.057037,\n",
              "       34.738686, 32.948013, 32.47511 , 44.200924, 40.786064, 39.36667 ,\n",
              "       37.256966, 34.44162 , 40.435196,       nan, 37.197037, 33.902557,\n",
              "       63.29755 , 45.19217 , 50.00143 , 37.719322, 33.65449 , 30.866213,\n",
              "       39.228096, 32.690117, 35.56397 , 30.314556, 27.271626, 31.221296,\n",
              "       35.98253 , 32.51911 , 28.47357 , 27.98981 , 30.44498 , 33.349064,\n",
              "       33.970833, 31.31995 , 41.25096 , 36.35713 , 35.374218, 39.715652,\n",
              "       33.761513, 34.97998 , 36.000008, 36.603485, 50.497444, 38.36283 ,\n",
              "       32.063896, 30.2429  , 28.765583, 29.09685 , 36.596283, 36.6391  ,\n",
              "       37.793686, 30.849037, 30.656227, 29.635784, 28.962076, 28.825327,\n",
              "       27.570229, 28.43608 , 28.157   , 27.698849, 28.23877 , 28.634398,\n",
              "       28.64354 , 33.525043, 31.2596  , 35.570393, 36.611984],\n",
              "      dtype=float32)"
            ]
          },
          "metadata": {
            "tags": []
          },
          "execution_count": 13
        }
      ]
    },
    {
      "cell_type": "code",
      "metadata": {
        "id": "zS9sOquSqjkS",
        "colab_type": "code",
        "colab": {
          "base_uri": "https://localhost:8080/",
          "height": 455
        },
        "outputId": "11a40f2a-191c-4e09-8ca9-d79da848d1dd"
      },
      "source": [
        "pd.DataFrame(test_predictions[0:100],label_test[0:100])\n"
      ],
      "execution_count": 15,
      "outputs": [
        {
          "output_type": "execute_result",
          "data": {
            "text/html": [
              "<div>\n",
              "<style scoped>\n",
              "    .dataframe tbody tr th:only-of-type {\n",
              "        vertical-align: middle;\n",
              "    }\n",
              "\n",
              "    .dataframe tbody tr th {\n",
              "        vertical-align: top;\n",
              "    }\n",
              "\n",
              "    .dataframe thead th {\n",
              "        text-align: right;\n",
              "    }\n",
              "</style>\n",
              "<table border=\"1\" class=\"dataframe\">\n",
              "  <thead>\n",
              "    <tr style=\"text-align: right;\">\n",
              "      <th></th>\n",
              "      <th>0</th>\n",
              "    </tr>\n",
              "    <tr>\n",
              "      <th>Close</th>\n",
              "      <th></th>\n",
              "    </tr>\n",
              "  </thead>\n",
              "  <tbody>\n",
              "    <tr>\n",
              "      <th>61.900002</th>\n",
              "      <td>29.397039</td>\n",
              "    </tr>\n",
              "    <tr>\n",
              "      <th>60.400002</th>\n",
              "      <td>28.305233</td>\n",
              "    </tr>\n",
              "    <tr>\n",
              "      <th>63.099998</th>\n",
              "      <td>29.703880</td>\n",
              "    </tr>\n",
              "    <tr>\n",
              "      <th>71.599998</th>\n",
              "      <td>33.741581</td>\n",
              "    </tr>\n",
              "    <tr>\n",
              "      <th>67.949997</th>\n",
              "      <td>29.563684</td>\n",
              "    </tr>\n",
              "    <tr>\n",
              "      <th>...</th>\n",
              "      <td>...</td>\n",
              "    </tr>\n",
              "    <tr>\n",
              "      <th>47.299999</th>\n",
              "      <td>28.643539</td>\n",
              "    </tr>\n",
              "    <tr>\n",
              "      <th>44.799999</th>\n",
              "      <td>33.525043</td>\n",
              "    </tr>\n",
              "    <tr>\n",
              "      <th>42.099998</th>\n",
              "      <td>31.259600</td>\n",
              "    </tr>\n",
              "    <tr>\n",
              "      <th>38.549999</th>\n",
              "      <td>35.570393</td>\n",
              "    </tr>\n",
              "    <tr>\n",
              "      <th>39.799999</th>\n",
              "      <td>36.611984</td>\n",
              "    </tr>\n",
              "  </tbody>\n",
              "</table>\n",
              "<p>89 rows × 1 columns</p>\n",
              "</div>"
            ],
            "text/plain": [
              "                   0\n",
              "Close               \n",
              "61.900002  29.397039\n",
              "60.400002  28.305233\n",
              "63.099998  29.703880\n",
              "71.599998  33.741581\n",
              "67.949997  29.563684\n",
              "...              ...\n",
              "47.299999  28.643539\n",
              "44.799999  33.525043\n",
              "42.099998  31.259600\n",
              "38.549999  35.570393\n",
              "39.799999  36.611984\n",
              "\n",
              "[89 rows x 1 columns]"
            ]
          },
          "metadata": {
            "tags": []
          },
          "execution_count": 15
        }
      ]
    },
    {
      "cell_type": "code",
      "metadata": {
        "id": "qN1NDvTRX_WR",
        "colab_type": "code",
        "colab": {
          "base_uri": "https://localhost:8080/",
          "height": 34
        },
        "outputId": "613e8f5f-e87c-4d22-818e-a00bd8de8188"
      },
      "source": [
        "\n",
        "#Making a new prediction\n",
        "import numpy as np\n",
        "\n",
        "new=pd.DataFrame(np.array([334,310,350,986887])) #new data for prediction\n",
        "\n",
        "train_stats=new.describe().T\n",
        "\n",
        "#send data to norm function\n",
        "new=norm(new).to_numpy().reshape(-1,4)\n",
        "\n",
        "\n",
        "model.predict(new)"
      ],
      "execution_count": 16,
      "outputs": [
        {
          "output_type": "execute_result",
          "data": {
            "text/plain": [
              "array([[12.335249]], dtype=float32)"
            ]
          },
          "metadata": {
            "tags": []
          },
          "execution_count": 16
        }
      ]
    }
  ]
}